{
 "cells": [
  {
   "cell_type": "code",
   "execution_count": null,
   "metadata": {},
   "outputs": [],
   "source": [
    "%pylab inline\n",
    "%matplotlib inline\n",
    "import warnings\n",
    "warnings.filterwarnings('ignore')\n",
    "warnings.simplefilter('ignore')"
   ]
  },
  {
   "cell_type": "code",
   "execution_count": null,
   "metadata": {},
   "outputs": [],
   "source": [
    "import matplotlib\n",
    "from matplotlib import pyplot\n",
    "import pandas as pd"
   ]
  },
  {
   "cell_type": "markdown",
   "metadata": {},
   "source": [
    "# 首先是price的qq图"
   ]
  },
  {
   "cell_type": "markdown",
   "metadata": {},
   "source": [
    "先看一下标准的正态分布"
   ]
  },
  {
   "cell_type": "code",
   "execution_count": null,
   "metadata": {},
   "outputs": [],
   "source": [
    "from scipy import stats\n",
    "x = np.arange(-5, 5, 0.1)\n",
    "y = stats.norm.cdf(x, 0, 1)\n",
    "plt.plot(x, y)"
   ]
  },
  {
   "cell_type": "code",
   "execution_count": null,
   "metadata": {},
   "outputs": [],
   "source": [
    "data = pd.read_csv('winemag-data-130k-v2.csv')\n",
    "price = data['price']\n",
    "sorted_ = np.sort(price)\n",
    "yvals = np.arange(len(sorted_))/float(len(sorted_))\n",
    "plt.plot(sorted_, yvals)"
   ]
  },
  {
   "cell_type": "markdown",
   "metadata": {},
   "source": [
    "直观上来看并不符合正态分布，我们看一下qq图"
   ]
  },
  {
   "cell_type": "code",
   "execution_count": null,
   "metadata": {},
   "outputs": [],
   "source": [
    "price.describe()"
   ]
  },
  {
   "cell_type": "markdown",
   "metadata": {},
   "source": [
    "首先我们把异常值null全部删除"
   ]
  },
  {
   "cell_type": "code",
   "execution_count": null,
   "metadata": {},
   "outputs": [],
   "source": [
    "price_ = price.dropna()"
   ]
  },
  {
   "cell_type": "markdown",
   "metadata": {},
   "source": [
    "然后绘制price的qq图"
   ]
  },
  {
   "cell_type": "code",
   "execution_count": null,
   "metadata": {
    "scrolled": true
   },
   "outputs": [],
   "source": [
    "stats.probplot(price_, dist=\"norm\", plot=plt)\n",
    "plt.show()"
   ]
  },
  {
   "cell_type": "markdown",
   "metadata": {},
   "source": [
    "可以看到price价格并不符合一个正态分布"
   ]
  },
  {
   "cell_type": "markdown",
   "metadata": {},
   "source": [
    "# 然后是points的qq图"
   ]
  },
  {
   "cell_type": "code",
   "execution_count": null,
   "metadata": {},
   "outputs": [],
   "source": [
    "points = data['points']\n",
    "points.describe()"
   ]
  },
  {
   "cell_type": "code",
   "execution_count": null,
   "metadata": {},
   "outputs": [],
   "source": [
    "points.isnull().any()"
   ]
  },
  {
   "cell_type": "markdown",
   "metadata": {},
   "source": [
    "可见数值属性points不存在空值"
   ]
  },
  {
   "cell_type": "code",
   "execution_count": null,
   "metadata": {},
   "outputs": [],
   "source": [
    "sorted_ = np.sort(points)\n",
    "yvals = np.arange(len(sorted_))/float(len(sorted_))\n",
    "plt.plot(sorted_, yvals)"
   ]
  },
  {
   "cell_type": "markdown",
   "metadata": {},
   "source": [
    "points看起来似乎有一点正态分布的感觉"
   ]
  },
  {
   "cell_type": "code",
   "execution_count": null,
   "metadata": {},
   "outputs": [],
   "source": [
    "stats.probplot(points, dist=\"norm\", plot=plt)\n",
    "plt.show()"
   ]
  },
  {
   "cell_type": "markdown",
   "metadata": {},
   "source": [
    "# 看起来points还是比较符合正态分布的"
   ]
  },
  {
   "cell_type": "markdown",
   "metadata": {},
   "source": [
    "# 2.数据缺失的处理"
   ]
  },
  {
   "cell_type": "code",
   "execution_count": null,
   "metadata": {},
   "outputs": [],
   "source": [
    "# 首先查看price中的缺失数据\n",
    "data[price.isnull().values==True].head()"
   ]
  },
  {
   "cell_type": "markdown",
   "metadata": {},
   "source": [
    "从price缺失的数据中我们发现大多是一些数据不完整的红酒，比如没有品酒师或者是产地不详或者是品酒师没有推特的一些记录，缺失的原因可能是市场上已经买不到（下架？绝版？），或者是比较不出名导致没有统计到。"
   ]
  },
  {
   "cell_type": "markdown",
   "metadata": {},
   "source": [
    "下面对缺失部分使用不同的策略进行处理："
   ]
  },
  {
   "cell_type": "markdown",
   "metadata": {},
   "source": [
    "我们引入sklearn库来实现插值策略"
   ]
  },
  {
   "cell_type": "code",
   "execution_count": null,
   "metadata": {},
   "outputs": [],
   "source": [
    "from sklearn.preprocessing import Imputer\n",
    "import statsmodels.formula.api as smf"
   ]
  },
  {
   "cell_type": "code",
   "execution_count": null,
   "metadata": {},
   "outputs": [],
   "source": [
    "X = data.iloc[:, 4:6].values\n",
    "X"
   ]
  },
  {
   "cell_type": "markdown",
   "metadata": {},
   "source": [
    "## 1. 删除缺失数据"
   ]
  },
  {
   "cell_type": "code",
   "execution_count": null,
   "metadata": {},
   "outputs": [],
   "source": [
    "# 首先是删除缺失数据\n",
    "price_drop = price.dropna()\n",
    "# 用最高频率值来填补缺失值\n",
    "imr = Imputer(missing_values = 'NaN', strategy = 'most_frequent', axis = 0 )\n",
    "imr = imr.fit(X)\n",
    "price_most = imr.transform(X)\n",
    "price_most[:,-1]"
   ]
  },
  {
   "cell_type": "markdown",
   "metadata": {},
   "source": [
    "## 2. 用最高频率值来填补缺失值"
   ]
  },
  {
   "cell_type": "code",
   "execution_count": null,
   "metadata": {},
   "outputs": [],
   "source": [
    "type(price)\n",
    "\n",
    "from pandas import DataFrame,Series\n",
    "price_m = Series(price_most[:,-1])\n",
    "type(price_m)"
   ]
  },
  {
   "cell_type": "markdown",
   "metadata": {},
   "source": [
    "## 3. 通过属性的相关关系来填补缺失值(通过列之间的相关关系）\n"
   ]
  },
  {
   "cell_type": "code",
   "execution_count": null,
   "metadata": {},
   "outputs": [],
   "source": [
    "# 首先判断一下相关性，价格应该和红酒的得分成正相关的，我们从相关系数来看一下\n",
    "price.corr(points)"
   ]
  },
  {
   "cell_type": "markdown",
   "metadata": {},
   "source": [
    "可见价格和红酒评分之间为低度相关，但是关注其他的属性发现相关性更低，所以我们用points来估计缺失的价格"
   ]
  },
  {
   "cell_type": "code",
   "execution_count": null,
   "metadata": {},
   "outputs": [],
   "source": [
    "process_df = data[['price', 'points']]\n",
    "# 乘客分成已知该特征和未知该特征两部分\n",
    "known = process_df[process_df.price.notnull()].as_matrix()\n",
    "unknown = process_df[process_df.price.isnull()].as_matrix()\n",
    "known[:,1].shape\n"
   ]
  },
  {
   "cell_type": "code",
   "execution_count": null,
   "metadata": {},
   "outputs": [],
   "source": [
    "import copy\n",
    "from sklearn.ensemble import RandomForestRegressor\n",
    "data_Attributes = copy.deepcopy(data)\n",
    "def setting_null_params(data):\n",
    "    # 把已有的数值型特征取出来输入到RandomForestRegressor中\n",
    "    process_df = data[['price', 'points']]\n",
    "    # 乘客分成已知该特征和未知该特征两部分\n",
    "    known = process_df[process_df.price.notnull()].as_matrix()\n",
    "    unknown = process_df[process_df.price.isnull()].as_matrix()\n",
    "    # X为特征属性值\n",
    "    X = known[:, 1].reshape(-1,1)\n",
    "    # y为结果标签值\n",
    "    y = known[:, 0].reshape(-1,1)\n",
    "    # fit到RandomForestRegressor之中\n",
    "    rfr = RandomForestRegressor(random_state=0, n_estimators=2000,  n_jobs=-1)\n",
    "    rfr.fit(X,y)\n",
    "    # 用得到的模型进行未知特征值预测\n",
    "    predicted = rfr.predict(unknown[:, 1].reshape(-1,1))\n",
    "    # 用得到的预测结果填补原缺失数据\n",
    "    data_Attributes.loc[(data_Attributes.price.isnull()), 'price'] = predicted\n",
    "    return data_Attributes\n",
    "\n",
    "data_Attributes = setting_null_params(data_Attributes)"
   ]
  },
  {
   "cell_type": "code",
   "execution_count": null,
   "metadata": {
    "scrolled": true
   },
   "outputs": [],
   "source": [
    "data_Attributes['price'].isnull().sum()"
   ]
  },
  {
   "cell_type": "markdown",
   "metadata": {},
   "source": [
    "**可以看到在price中缺失值已经根据points拟合的函数填充好**"
   ]
  },
  {
   "cell_type": "markdown",
   "metadata": {},
   "source": [
    "## 4. 通过数据对象之间的相似性来填补缺失值\n",
    "**通过数据对象之间的相似性来填补缺失值，即通过观察行之间的相似性。我们采用的策略是计算同一酒庄酒类价格的平均追作为该红酒price，如果这个酒庄只有这一个元素，我们使用同一产地下酒类价格平均值**"
   ]
  },
  {
   "cell_type": "code",
   "execution_count": null,
   "metadata": {},
   "outputs": [],
   "source": [
    "data.ix[1]"
   ]
  },
  {
   "cell_type": "code",
   "execution_count": null,
   "metadata": {},
   "outputs": [],
   "source": [
    "winery =  'Quinta dos Avidagos'\n",
    "\n",
    "data[data['winery']==winery].price.mean() "
   ]
  },
  {
   "cell_type": "code",
   "execution_count": null,
   "metadata": {},
   "outputs": [],
   "source": [
    "data.ix[0].price.mean()"
   ]
  },
  {
   "cell_type": "code",
   "execution_count": null,
   "metadata": {
    "scrolled": false
   },
   "outputs": [],
   "source": [
    "price = data['price']\n",
    "for i in arange(len(price)):\n",
    "    sum1=0\n",
    "    if np.isnan(price[i]) == True:\n",
    "        winery = data.ix[i].winery\n",
    "        p = data[data['winery']==winery].price.mean()\n",
    "        if np.isnan(p) == True: \n",
    "            region = data.ix[i].region_1\n",
    "            p =  data[data['region_1']==region].price.mean()\n",
    "            if np.isnan(p) == True:\n",
    "                province = data.ix[i].province\n",
    "                p =  data[data['province']==province].price.mean()\n",
    "                if np.isnan(p) == True:\n",
    "                    taster = data.ix[i].taster_name\n",
    "                    p =  data[data['taster_name']==taster].price.mean()\n",
    "        price[i] = p"
   ]
  },
  {
   "cell_type": "markdown",
   "metadata": {},
   "source": [
    "**发现异常值都已经在我们的策略下填充好**"
   ]
  },
  {
   "cell_type": "code",
   "execution_count": null,
   "metadata": {},
   "outputs": [],
   "source": [
    "data['price'].isnull().sum()\n",
    "#price[price.isnull()]\n",
    "#data.ix[16749]"
   ]
  },
  {
   "cell_type": "markdown",
   "metadata": {},
   "source": [
    "# 下面是处理后的数据和原数据的统计对比"
   ]
  },
  {
   "cell_type": "markdown",
   "metadata": {},
   "source": [
    "## 1. 删除缺失数据的QQ图"
   ]
  },
  {
   "cell_type": "code",
   "execution_count": null,
   "metadata": {},
   "outputs": [],
   "source": [
    "stats.probplot(price_drop, dist=\"norm\", plot=plt)\n",
    "plt.show()"
   ]
  },
  {
   "cell_type": "markdown",
   "metadata": {},
   "source": [
    "## 2.用众数补充缺失值的QQ图"
   ]
  },
  {
   "cell_type": "code",
   "execution_count": null,
   "metadata": {},
   "outputs": [],
   "source": [
    "stats.probplot(price_m, dist=\"norm\", plot=plt)\n",
    "plt.show()"
   ]
  },
  {
   "cell_type": "markdown",
   "metadata": {},
   "source": [
    "## 3. 通过属性的相关关系来填补缺失值的QQ图"
   ]
  },
  {
   "cell_type": "code",
   "execution_count": null,
   "metadata": {
    "scrolled": true
   },
   "outputs": [],
   "source": [
    "stats.probplot(data_Attributes['price'], dist=\"norm\", plot=plt)\n",
    "plt.show()"
   ]
  },
  {
   "cell_type": "markdown",
   "metadata": {},
   "source": [
    "## 4.通过数据对象之间的相似性来填补缺失值"
   ]
  },
  {
   "cell_type": "code",
   "execution_count": null,
   "metadata": {},
   "outputs": [],
   "source": [
    "stats.probplot(price, dist=\"norm\", plot=plt)\n",
    "plt.show()"
   ]
  },
  {
   "cell_type": "code",
   "execution_count": null,
   "metadata": {},
   "outputs": [],
   "source": []
  }
 ],
 "metadata": {
  "kernelspec": {
   "display_name": "Python 3",
   "language": "python",
   "name": "python3"
  },
  "language_info": {
   "codemirror_mode": {
    "name": "ipython",
    "version": 3
   },
   "file_extension": ".py",
   "mimetype": "text/x-python",
   "name": "python",
   "nbconvert_exporter": "python",
   "pygments_lexer": "ipython3",
   "version": "3.7.0"
  }
 },
 "nbformat": 4,
 "nbformat_minor": 2
}
